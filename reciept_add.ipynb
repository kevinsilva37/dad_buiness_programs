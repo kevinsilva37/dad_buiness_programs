{
 "cells": [
  {
   "cell_type": "code",
   "execution_count": null,
   "metadata": {},
   "outputs": [
    {
     "name": "stdin",
     "output_type": "stream",
     "text": [
      "How many reciepts are you adding up today?\n",
      " 10\n"
     ]
    },
    {
     "name": "stdout",
     "output_type": "stream",
     "text": [
      "You are adding up 10 reciepts? y/n\n",
      "\n"
     ]
    },
    {
     "name": "stdin",
     "output_type": "stream",
     "text": [
      " n\n",
      "How many reciepts are you adding up today?\n",
      " 9\n"
     ]
    },
    {
     "name": "stdout",
     "output_type": "stream",
     "text": [
      "You are adding up 9 reciepts? y/n\n",
      "\n"
     ]
    },
    {
     "name": "stdin",
     "output_type": "stream",
     "text": [
      " y\n"
     ]
    },
    {
     "name": "stdout",
     "output_type": "stream",
     "text": [
      "Input the total values from the reciept below\n"
     ]
    },
    {
     "name": "stdin",
     "output_type": "stream",
     "text": [
      "Total=  341.81\n",
      "Total=  39.11\n",
      "Total=  322.82\n",
      "Total=  302.33\n",
      "Total=  258.56\n",
      "Total=  292.05\n",
      "Total=  254.86\n",
      "Total=  305.95\n",
      "Total=  325.94\n"
     ]
    },
    {
     "name": "stdout",
     "output_type": "stream",
     "text": [
      "Final sum= 2443.43\n"
     ]
    },
    {
     "name": "stdin",
     "output_type": "stream",
     "text": [
      "Would you like to use the application again? y/n\n",
      " y\n",
      "How many reciepts are you adding up today?\n",
      " 5\n"
     ]
    },
    {
     "name": "stdout",
     "output_type": "stream",
     "text": [
      "You are adding up 5 reciepts? y/n\n",
      "\n"
     ]
    },
    {
     "name": "stdin",
     "output_type": "stream",
     "text": [
      " y\n"
     ]
    },
    {
     "name": "stdout",
     "output_type": "stream",
     "text": [
      "Input the total values from the reciept below\n"
     ]
    },
    {
     "name": "stdin",
     "output_type": "stream",
     "text": [
      "Total=  4.86\n",
      "Total=  15.96\n",
      "Total=  45\n",
      "Total=  121.52\n",
      "Total=  392.93\n"
     ]
    },
    {
     "name": "stdout",
     "output_type": "stream",
     "text": [
      "Final sum= 580.27\n"
     ]
    }
   ],
   "source": [
    "# Import libaries needed for this project\n",
    "\n",
    "import numpy as np\n",
    "\n",
    "while True:\n",
    "    # Declaring of variables\n",
    "        x2='n'\n",
    "        i=0\n",
    "        sum=0\n",
    "        # Start of program\n",
    "        while True:\n",
    "            x=input('How many reciepts are you adding up today?\\n')\n",
    "            print('You are adding up',x,'reciepts? y/n\\n')\n",
    "            x2=input()\n",
    "            if(x2=='y'):\n",
    "                from numpy import zeros\n",
    "                reciept_vals= zeros([int(x)])\n",
    "                break\n",
    "        # Collect the reciept values and add them up\n",
    "        print('Input the total values from the reciept below')\n",
    "\n",
    "        for val in range(int(x)):\n",
    "            x1=input('Total= ')\n",
    "            reciept_vals[val]=float(x1)\n",
    "            sum=sum+reciept_vals[val]\n",
    "\n",
    "        print('Final sum=',sum) \n",
    "        \n",
    "        repeat_ans=input('Would you like to use the application again? y/n\\n')\n",
    "        if(repeat_ans=='n'):\n",
    "            break\n",
    "        \n",
    "\n",
    "\n",
    "    "
   ]
  }
 ],
 "metadata": {
  "kernelspec": {
   "display_name": "Python 3",
   "language": "python",
   "name": "python3"
  },
  "language_info": {
   "codemirror_mode": {
    "name": "ipython",
    "version": 3
   },
   "file_extension": ".py",
   "mimetype": "text/x-python",
   "name": "python",
   "nbconvert_exporter": "python",
   "pygments_lexer": "ipython3",
   "version": "3.8.3"
  }
 },
 "nbformat": 4,
 "nbformat_minor": 4
}
