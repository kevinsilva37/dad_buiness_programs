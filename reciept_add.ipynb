
   "source": [
    "# Import libaries needed for this project\n",
    "\n",
    "import numpy as np\n",
    "\n",
    "while True:\n",
    "    # Declaring of variables\n",
    "        x2='n'\n",
    "        i=0\n",
    "        sum=0\n",
    "        # Start of program\n",
    "        while True:\n",
    "            x=input('How many reciepts are you adding up today?\\n')\n",
    "            print('You are adding up',x,'reciepts? y/n\\n')\n",
    "            x2=input()\n",
    "            if(x2=='y'):\n",
    "                from numpy import zeros\n",
    "                reciept_vals= zeros([int(x)])\n",
    "                break\n",
    "        # Collect the reciept values and add them up\n",
    "        print('Input the total values from the reciept below')\n",
    "\n",
    "        for val in range(int(x)):\n",
    "            x1=input('Total= ')\n",
    "            reciept_vals[val]=float(x1)\n",
    "            sum=sum+reciept_vals[val]\n",
    "\n",
    "        print('Final sum=',sum) \n",
    "        \n",
    "        repeat_ans=input('Would you like to use the application again? y/n\\n')\n",
    "        if(repeat_ans=='n'):\n",
    "            break\n",
    "        \n",
    "\n",
    "\n",
    "    "
   ]
  }
 ],
 "metadata": {
  "kernelspec": {
   "display_name": "Python 3",
   "language": "python",
   "name": "python3"
  },
  "language_info": {
   "codemirror_mode": {
    "name": "ipython",
    "version": 3
   },
   "file_extension": ".py",
   "mimetype": "text/x-python",
   "name": "python",
   "nbconvert_exporter": "python",
   "pygments_lexer": "ipython3",
   "version": "3.8.3"
  }
 },
 "nbformat": 4,
 "nbformat_minor": 4
}
